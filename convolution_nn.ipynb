{
 "cells": [
  {
   "cell_type": "code",
   "execution_count": 1,
   "metadata": {},
   "outputs": [],
   "source": [
    "# Importing the Basic Libraries\n",
    "import numpy as np\n",
    "import pandas as pd\n",
    "import tensorflow as tf\n",
    "from keras.preprocessing.image import ImageDataGenerator"
   ]
  },
  {
   "cell_type": "code",
   "execution_count": 2,
   "metadata": {},
   "outputs": [
    {
     "name": "stdout",
     "output_type": "stream",
     "text": [
      "Found 8000 images belonging to 2 classes.\n",
      "Found 2000 images belonging to 2 classes.\n"
     ]
    }
   ],
   "source": [
    "train_datagen= ImageDataGenerator(rescale=1./255, shear_range=0.2, zoom_range=0.2, horizontal_flip=True)\n",
    "train_set= train_datagen.flow_from_directory('dataset/training_set', target_size=(64,64), batch_size=32, class_mode='binary')\n",
    "\n",
    "test_datagen= ImageDataGenerator(rescale=1./255)\n",
    "test_set= test_datagen.flow_from_directory('dataset/test_set', target_size=(64,64), class_mode='binary', batch_size=32)\n"
   ]
  },
  {
   "cell_type": "code",
   "execution_count": 3,
   "metadata": {},
   "outputs": [],
   "source": [
    "cnn= tf.keras.models.Sequential()\n",
    "\n",
    "# CNN Layer 1 , Applying filters to the images\n",
    "cnn.add(tf.keras.layers.Conv2D(filters= 32, kernel_size=3, activation='relu', input_shape= [64,64,3]))\n",
    "# Pooling the images \n",
    "cnn.add(tf.keras.layers.MaxPool2D(pool_size=2, strides=2))\n",
    "\n",
    "# CNN Layer 2\n",
    "cnn.add(tf.keras.layers.Conv2D(filters= 32, kernel_size=3, activation='relu'))\n",
    "cnn.add(tf.keras.layers.MaxPool2D(pool_size=2, strides=2))\n",
    "\n",
    "# Flattening the layers\n",
    "cnn.add(tf.keras.layers.Flatten())"
   ]
  },
  {
   "cell_type": "code",
   "execution_count": 4,
   "metadata": {},
   "outputs": [],
   "source": [
    "# ANN Layer\n",
    "cnn.add(tf.keras.layers.Dense(units=128, activation='relu'))\n",
    "\n",
    "# Output Layer\n",
    "cnn.add(tf.keras.layers.Dense(units=1, activation='sigmoid'))"
   ]
  },
  {
   "cell_type": "code",
   "execution_count": 5,
   "metadata": {},
   "outputs": [
    {
     "name": "stdout",
     "output_type": "stream",
     "text": [
      "Epoch 1/25\n",
      "250/250 [==============================] - 91s 360ms/step - loss: 0.6731 - accuracy: 0.5785 - val_loss: 0.6504 - val_accuracy: 0.6385\n",
      "Epoch 2/25\n",
      "250/250 [==============================] - 34s 135ms/step - loss: 0.6211 - accuracy: 0.6662 - val_loss: 0.6025 - val_accuracy: 0.6850\n",
      "Epoch 3/25\n",
      "250/250 [==============================] - 33s 130ms/step - loss: 0.5804 - accuracy: 0.7024 - val_loss: 0.5601 - val_accuracy: 0.7135\n",
      "Epoch 4/25\n",
      "250/250 [==============================] - 34s 138ms/step - loss: 0.5467 - accuracy: 0.7266 - val_loss: 0.5481 - val_accuracy: 0.7280\n",
      "Epoch 5/25\n",
      "250/250 [==============================] - 36s 143ms/step - loss: 0.5041 - accuracy: 0.7506 - val_loss: 0.5088 - val_accuracy: 0.7450\n",
      "Epoch 6/25\n",
      "250/250 [==============================] - 36s 144ms/step - loss: 0.4849 - accuracy: 0.7629 - val_loss: 0.5071 - val_accuracy: 0.7475\n",
      "Epoch 7/25\n",
      "250/250 [==============================] - 42s 169ms/step - loss: 0.4701 - accuracy: 0.7766 - val_loss: 0.4718 - val_accuracy: 0.7770\n",
      "Epoch 8/25\n",
      "250/250 [==============================] - 35s 141ms/step - loss: 0.4488 - accuracy: 0.7897 - val_loss: 0.4619 - val_accuracy: 0.7830\n",
      "Epoch 9/25\n",
      "250/250 [==============================] - 34s 136ms/step - loss: 0.4302 - accuracy: 0.8000 - val_loss: 0.4647 - val_accuracy: 0.7890\n",
      "Epoch 10/25\n",
      "250/250 [==============================] - 33s 132ms/step - loss: 0.4214 - accuracy: 0.8045 - val_loss: 0.4618 - val_accuracy: 0.7815\n",
      "Epoch 11/25\n",
      "250/250 [==============================] - 41s 163ms/step - loss: 0.4075 - accuracy: 0.8158 - val_loss: 0.4574 - val_accuracy: 0.7915\n",
      "Epoch 12/25\n",
      "250/250 [==============================] - 39s 155ms/step - loss: 0.3923 - accuracy: 0.8198 - val_loss: 0.4775 - val_accuracy: 0.7650\n",
      "Epoch 13/25\n",
      "250/250 [==============================] - 40s 160ms/step - loss: 0.3780 - accuracy: 0.8253 - val_loss: 0.4502 - val_accuracy: 0.7980\n",
      "Epoch 14/25\n",
      "250/250 [==============================] - 41s 165ms/step - loss: 0.3597 - accuracy: 0.8381 - val_loss: 0.4661 - val_accuracy: 0.7860\n",
      "Epoch 15/25\n",
      "250/250 [==============================] - 42s 166ms/step - loss: 0.3500 - accuracy: 0.8407 - val_loss: 0.4986 - val_accuracy: 0.7810\n",
      "Epoch 16/25\n",
      "250/250 [==============================] - 43s 170ms/step - loss: 0.3366 - accuracy: 0.8506 - val_loss: 0.4938 - val_accuracy: 0.7945\n",
      "Epoch 17/25\n",
      "250/250 [==============================] - 44s 178ms/step - loss: 0.3287 - accuracy: 0.8574 - val_loss: 0.4727 - val_accuracy: 0.7840\n",
      "Epoch 18/25\n",
      "250/250 [==============================] - 41s 164ms/step - loss: 0.3088 - accuracy: 0.8660 - val_loss: 0.4691 - val_accuracy: 0.7990\n",
      "Epoch 19/25\n",
      "250/250 [==============================] - 41s 163ms/step - loss: 0.2854 - accuracy: 0.8766 - val_loss: 0.5119 - val_accuracy: 0.7940\n",
      "Epoch 20/25\n",
      "250/250 [==============================] - 36s 142ms/step - loss: 0.2716 - accuracy: 0.8885 - val_loss: 0.5256 - val_accuracy: 0.7895\n",
      "Epoch 21/25\n",
      "250/250 [==============================] - 34s 134ms/step - loss: 0.2664 - accuracy: 0.8865 - val_loss: 0.5315 - val_accuracy: 0.7895\n",
      "Epoch 22/25\n",
      "250/250 [==============================] - 31s 123ms/step - loss: 0.2510 - accuracy: 0.8919 - val_loss: 0.5189 - val_accuracy: 0.7885\n",
      "Epoch 23/25\n",
      "250/250 [==============================] - 31s 123ms/step - loss: 0.2419 - accuracy: 0.9013 - val_loss: 0.5287 - val_accuracy: 0.7855\n",
      "Epoch 24/25\n",
      "250/250 [==============================] - 31s 123ms/step - loss: 0.2230 - accuracy: 0.9100 - val_loss: 0.5430 - val_accuracy: 0.7895\n",
      "Epoch 25/25\n",
      "250/250 [==============================] - 33s 131ms/step - loss: 0.2163 - accuracy: 0.9131 - val_loss: 0.5522 - val_accuracy: 0.7910\n"
     ]
    },
    {
     "data": {
      "text/plain": [
       "<keras.callbacks.History at 0x27c5d478690>"
      ]
     },
     "execution_count": 5,
     "metadata": {},
     "output_type": "execute_result"
    }
   ],
   "source": [
    "# Compiling our CNN Model\n",
    "cnn.compile(optimizer='adam', loss='binary_crossentropy', metrics=['accuracy'])\n",
    "\n",
    "# Training the model on the datasets\n",
    "cnn.fit(x= train_set, validation_data=test_set, epochs=25)"
   ]
  },
  {
   "cell_type": "code",
   "execution_count": 11,
   "metadata": {},
   "outputs": [
    {
     "name": "stdout",
     "output_type": "stream",
     "text": [
      "{'cats': 0, 'dogs': 1}\n",
      "1/1 [==============================] - 0s 24ms/step\n",
      "1/1 [==============================] - 0s 25ms/step\n",
      "1/1 [==============================] - 0s 25ms/step\n",
      "1/1 [==============================] - 0s 25ms/step\n",
      "1/1 [==============================] - 0s 25ms/step\n",
      "1/1 [==============================] - 0s 16ms/step\n",
      "1/1 [==============================] - 0s 25ms/step\n",
      "1/1 [==============================] - 0s 25ms/step\n",
      "1/1 [==============================] - 0s 24ms/step\n",
      "1/1 [==============================] - 0s 33ms/step\n",
      "1/1 [==============================] - 0s 25ms/step\n",
      "1/1 [==============================] - 0s 24ms/step\n",
      "1/1 [==============================] - 0s 25ms/step\n",
      "1/1 [==============================] - 0s 23ms/step\n",
      "1/1 [==============================] - 0s 33ms/step\n",
      "1/1 [==============================] - 0s 24ms/step\n",
      "1/1 [==============================] - 0s 33ms/step\n",
      "1/1 [==============================] - 0s 25ms/step\n",
      "1/1 [==============================] - 0s 25ms/step\n",
      "1/1 [==============================] - 0s 25ms/step\n",
      "['cat', 'dog', 'dog', 'dog', 'dog', 'dog', 'dog', 'cat', 'dog', 'cat', 'dog', 'dog', 'dog', 'dog', 'dog', 'dog', 'dog', 'dog', 'dog', 'cat']\n"
     ]
    }
   ],
   "source": [
    "from keras.preprocessing import image\n",
    "import os\n",
    "from PIL import Image\n",
    "\n",
    "folder_path = \"dataset/prediction_set\"\n",
    "files = os.listdir(folder_path)\n",
    "print(train_set.class_indices)\n",
    "prediction=[]\n",
    "for file in files:\n",
    "    if file.endswith(\".jpg\"):\n",
    "        imagepath= os.path.join(folder_path,file)\n",
    "        test_img= Image.open(imagepath).resize((64,64))\n",
    "        test_img= np.array(test_img)\n",
    "        test_img= np.expand_dims(test_img, axis=0)\n",
    "        result= cnn.predict(test_img)\n",
    "        if result[0][0] == 1:\n",
    "            prediction.append('dog')\n",
    "        else:\n",
    "            prediction.append('cat')\n",
    "\n",
    "print(prediction)"
   ]
  }
 ],
 "metadata": {
  "kernelspec": {
   "display_name": "Python 3",
   "language": "python",
   "name": "python3"
  },
  "language_info": {
   "codemirror_mode": {
    "name": "ipython",
    "version": 3
   },
   "file_extension": ".py",
   "mimetype": "text/x-python",
   "name": "python",
   "nbconvert_exporter": "python",
   "pygments_lexer": "ipython3",
   "version": "3.11.3"
  },
  "orig_nbformat": 4
 },
 "nbformat": 4,
 "nbformat_minor": 2
}
